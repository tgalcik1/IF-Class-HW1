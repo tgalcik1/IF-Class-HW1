{
    "cells": [
        {
            "cell_type": "markdown",
            "metadata": {
                "cell_id": "33184e80e3d24ead80c2fa1fe32e708b",
                "deepnote_cell_type": "markdown"
            },
            "source": "# Homework 1 - Task 1",
            "block_group": "253b4c869198449b80eb8d9d1f530c47"
        },
        {
            "cell_type": "markdown",
            "metadata": {
                "cell_id": "ea401205f34844b2bc0dabab73656bf6",
                "deepnote_cell_type": "markdown"
            },
            "source": "## Action Castle\n\nFor the first homework, we'll implement a more complicated game based on __Action Castle__, a game in the awesome book\n[Parsley](http://www.memento-mori.com/parsely-products/parsely-pdf)  by Jared A. Sorensen.",
            "block_group": "624651669424497ca28bda073f5e0b28"
        },
        {
            "cell_type": "markdown",
            "metadata": {
                "cell_id": "433c92abea0d44a4bf2f6b3a90d5f99f",
                "deepnote_cell_type": "markdown"
            },
            "source": "Here's a map of Action Castle.\n\n![image.png](attachment:image.png)",
            "block_group": "309711532ee4479e86380c2226a82d8e"
        },
        {
            "cell_type": "markdown",
            "metadata": {
                "cell_id": "6aaf393e004f403d8db42747b29473c8",
                "deepnote_cell_type": "markdown"
            },
            "source": "### Import Text Adventures",
            "block_group": "54a7632c9a6d45cf97562b9e37551ccc"
        },
        {
            "cell_type": "code",
            "metadata": {
                "source_hash": "ca52f516",
                "execution_start": 1725834095784,
                "execution_millis": 5018,
                "deepnote_to_be_reexecuted": false,
                "cell_id": "d7920f23fb004b6d96e0277a8be6573f",
                "deepnote_cell_type": "code"
            },
            "source": "from work.text_adventure_games import (\n    games, parsing, actions, things, blocks, viz\n)",
            "block_group": "ad8bcc4f9eb441eeae07b54b5d0eed1e",
            "execution_count": 1,
            "outputs": [],
            "outputs_reference": null,
            "content_dependencies": null
        },
        {
            "cell_type": "markdown",
            "metadata": {
                "cell_id": "b5c9d869a4e54b96baeb54be38d5a233",
                "deepnote_cell_type": "markdown"
            },
            "source": "## Locations",
            "block_group": "b4fb0fdf4a664e32b23d01ddccd30d7d"
        },
        {
            "cell_type": "code",
            "metadata": {
                "source_hash": "954dee6e",
                "execution_start": 1725834100806,
                "execution_millis": 35,
                "deepnote_to_be_reexecuted": false,
                "cell_id": "66b801ea70a14ee4a3acb0661abfcda4",
                "deepnote_cell_type": "code"
            },
            "source": "\ncottage = things.Location(\n    \"Cottage\",\n    \"You are standing in a small cottage.\"\n)\ngarden_path = things.Location(\n    \"Garden Path\",\n    \"You are standing on a lush garden path. There is a cottage here.\",\n)\nfishing_pond = things.Location(\n    \"Fishing Pond\",\n    \"You are at the edge of a small fishing pond.\"\n)\nwinding_path = things.Location(\n    \"Winding Path\",\n    \"You are walking along a winding path. There is a tall tree here.\",\n)\ntop_of_tree = things.Location(\n    \"Top of the Tall Tree\",\n    \"You are the top of the tall tree.\"\n)\ndrawbridge = things.Location(\n    \"Drawbridge\",\n    \"You are standing on one side of a drawbridge leading to ACTION CASTLE.\",\n)\ncourtyard = things.Location(\n    \"Courtyard\",\n    \"You are in the courtyard of ACTION CASTLE.\"\n)\ntower_stairs = things.Location(\n    \"Tower Stairs\",\n    \"You are climbing the stairs to the tower. There is a locked door here.\",\n)\ntower = things.Location(\n    \"Tower\",\n    \"You are inside a tower.\"\n)\ndungeon_stairs = things.Location(\n    \"Dungeon Stairs\",\n    \"You are climbing the stairs down to the dungeon.\"\n)\ndungeon = things.Location(\n    \"Dungeon\",\n    \"You are in the dungeon. There is a spooky ghost here.\"\n)\nfeasting_hall = things.Location(\n    \"Great Feasting Hall\",\n    \"You stand inside the Great Feasting Hall.\"\n)\nthrone_room = things.Location(\n    \"Throne Room\",\n    \"This is the throne room of ACTION CASTLE.\"\n)\ndeath = things.Location(\n    \"The Afterlife\",\n    \"You are dead. GAME OVER.\"\n)\ndeath.set_property(\"game_over\", True)\n\n\n# Map of Locations\ncottage.add_connection(\"out\", garden_path)\ngarden_path.add_connection(\"south\", fishing_pond)\ngarden_path.add_connection(\"north\", winding_path)\nwinding_path.add_connection(\"up\", top_of_tree)\nwinding_path.add_connection(\"east\", drawbridge)\ntop_of_tree.add_connection(\"jump\", death)\ndrawbridge.add_connection(\"east\", courtyard)\ncourtyard.add_connection(\"up\", tower_stairs)\ncourtyard.add_connection(\"down\", dungeon_stairs)\ncourtyard.add_connection(\"east\", feasting_hall)\ntower_stairs.add_connection(\"up\", tower)\ndungeon_stairs.add_connection(\"down\", dungeon)\nfeasting_hall.add_connection(\"east\", throne_room)\n\n",
            "block_group": "932c1ac9e4834e0eb15de7e8be762ec3",
            "execution_count": 2,
            "outputs": [],
            "outputs_reference": null,
            "content_dependencies": null
        },
        {
            "cell_type": "markdown",
            "metadata": {
                "cell_id": "3fc2b74a983a4158a1f8cebe16914468",
                "deepnote_cell_type": "markdown"
            },
            "source": "###  Preliminary Game Map\n\nHere is a visualization of the locations in action castle represented as a directed graph.\n\n![Visualization of game map starting from the tower](../map-from-tower.svg)",
            "block_group": "c574d177da3d434fbbdd5d585682f09d"
        },
        {
            "cell_type": "code",
            "metadata": {
                "source_hash": "c39e2614",
                "execution_start": 1725834100833,
                "execution_millis": 165,
                "deepnote_to_be_reexecuted": false,
                "cell_id": "667b826d6b3545e7805dc81e8bdc7bfb",
                "deepnote_cell_type": "code"
            },
            "source": "tempgame = games.Game(tower, things.Character(name=\"Temp Player\", description=\"\", persona=\"\"))\n\nfrom work.text_adventure_games.viz import Visualizer\nviz = Visualizer(tempgame)\ngraph = viz.visualize()\ngraph",
            "block_group": "89a2f2626a2649fe8978b5ab6df38f51",
            "execution_count": 3,
            "outputs": [
                {
                    "output_type": "execute_result",
                    "execution_count": 3,
                    "data": {
                        "image/svg+xml": "<?xml version=\"1.0\" encoding=\"UTF-8\" standalone=\"no\"?>\n<!DOCTYPE svg PUBLIC \"-//W3C//DTD SVG 1.1//EN\"\n \"http://www.w3.org/Graphics/SVG/1.1/DTD/svg11.dtd\">\n<!-- Generated by graphviz version 2.40.1 (20161225.0304)\n -->\n<!-- Title: %3 Pages: 1 -->\n<svg width=\"2338pt\" height=\"829pt\"\n viewBox=\"0.00 0.00 2338.46 828.77\" xmlns=\"http://www.w3.org/2000/svg\" xmlns:xlink=\"http://www.w3.org/1999/xlink\">\n<g id=\"graph0\" class=\"graph\" transform=\"scale(1 1) rotate(0) translate(4 824.7737)\">\n<title>%3</title>\n<polygon fill=\"#ffffff\" stroke=\"transparent\" points=\"-4,4 -4,-824.7737 2334.4565,-824.7737 2334.4565,4 -4,4\"/>\n<!-- Tower -->\n<g id=\"node1\" class=\"node\">\n<title>Tower</title>\n<ellipse fill=\"#b2dfee\" stroke=\"#b2dfee\" cx=\"1581.0402\" cy=\"-775.5189\" rx=\"137.7717\" ry=\"45.011\"/>\n<text text-anchor=\"start\" x=\"1557.0402\" y=\"-793.3189\" font-family=\"Times,serif\" font-weight=\"bold\" font-size=\"14.00\" fill=\"#000000\">Tower</text>\n<text text-anchor=\"start\" x=\"1499.5402\" y=\"-779.3189\" font-family=\"Times,serif\" font-size=\"14.00\" fill=\"#000000\">You are inside a tower.</text>\n<text text-anchor=\"start\" x=\"1578.5402\" y=\"-765.3189\" font-family=\"Times,serif\" font-size=\"14.00\" fill=\"#000000\"> </text>\n<text text-anchor=\"start\" x=\"1491.5402\" y=\"-751.3189\" font-family=\"Times,serif\" font-size=\"14.00\" fill=\"#000000\">Characters: Temp player</text>\n</g>\n<!-- Tower Stairs -->\n<g id=\"node2\" class=\"node\">\n<title>Tower Stairs</title>\n<ellipse fill=\"#b2dfee\" stroke=\"#b2dfee\" cx=\"1581.0402\" cy=\"-643.9087\" rx=\"360.749\" ry=\"35.2113\"/>\n<text text-anchor=\"start\" x=\"1531.0402\" y=\"-654.7087\" font-family=\"Times,serif\" font-weight=\"bold\" font-size=\"14.00\" fill=\"#000000\">Tower Stairs</text>\n<text text-anchor=\"start\" x=\"1334.0402\" y=\"-640.7087\" font-family=\"Times,serif\" font-size=\"14.00\" fill=\"#000000\">You are climbing the stairs to the tower. There is a locked door here.</text>\n<text text-anchor=\"start\" x=\"1578.5402\" y=\"-626.7087\" font-family=\"Times,serif\" font-size=\"14.00\" fill=\"#000000\"> </text>\n</g>\n<!-- Tower&#45;&gt;Tower Stairs -->\n<g id=\"edge1\" class=\"edge\">\n<title>Tower&#45;&gt;Tower Stairs</title>\n<path fill=\"none\" stroke=\"#000000\" d=\"M1552.7676,-731.0073C1548.8395,-720.1303 1547.037,-708.4109 1550.0402,-697.2641 1550.8366,-694.3079 1551.8416,-691.3468 1552.9985,-688.4188\"/>\n<polygon fill=\"#000000\" stroke=\"#000000\" points=\"1556.2236,-689.7809 1557.1421,-679.226 1549.8419,-686.9044 1556.2236,-689.7809\"/>\n<text text-anchor=\"middle\" x=\"1570.5402\" y=\"-701.0641\" font-family=\"Times,serif\" font-size=\"14.00\" fill=\"#000000\">Down</text>\n</g>\n<!-- Tower Stairs&#45;&gt;Tower -->\n<g id=\"edge3\" class=\"edge\">\n<title>Tower Stairs&#45;&gt;Tower</title>\n<path fill=\"none\" stroke=\"#000000\" d=\"M1588.6334,-679.3677C1589.6344,-685.3165 1590.4996,-691.446 1591.0402,-697.2641 1591.7273,-704.6604 1591.6745,-712.435 1591.1644,-720.0958\"/>\n<polygon fill=\"#000000\" stroke=\"#000000\" points=\"1587.6785,-719.7826 1590.2541,-730.0596 1594.6495,-720.4195 1587.6785,-719.7826\"/>\n<text text-anchor=\"middle\" x=\"1603.0402\" y=\"-701.0641\" font-family=\"Times,serif\" font-size=\"14.00\" fill=\"#000000\">Up</text>\n</g>\n<!-- Courtyard -->\n<g id=\"node3\" class=\"node\">\n<title>Courtyard</title>\n<ellipse fill=\"#b2dfee\" stroke=\"#b2dfee\" cx=\"1581.0402\" cy=\"-522.1981\" rx=\"244.818\" ry=\"35.2113\"/>\n<text text-anchor=\"start\" x=\"1540.5402\" y=\"-532.9981\" font-family=\"Times,serif\" font-weight=\"bold\" font-size=\"14.00\" fill=\"#000000\">Courtyard</text>\n<text text-anchor=\"start\" x=\"1416.0402\" y=\"-518.9981\" font-family=\"Times,serif\" font-size=\"14.00\" fill=\"#000000\">You are in the courtyard of ACTION CASTLE.</text>\n<text text-anchor=\"start\" x=\"1578.5402\" y=\"-504.9981\" font-family=\"Times,serif\" font-size=\"14.00\" fill=\"#000000\"> </text>\n</g>\n<!-- Tower Stairs&#45;&gt;Courtyard -->\n<g id=\"edge2\" class=\"edge\">\n<title>Tower Stairs&#45;&gt;Courtyard</title>\n<path fill=\"none\" stroke=\"#000000\" d=\"M1554.657,-608.5369C1549.788,-598.1627 1547.0571,-586.6255 1550.0402,-575.5534 1550.8366,-572.5972 1551.8416,-569.6361 1552.9985,-566.7081\"/>\n<polygon fill=\"#000000\" stroke=\"#000000\" points=\"1556.2236,-568.0703 1557.1421,-557.5153 1549.8419,-565.1937 1556.2236,-568.0703\"/>\n<text text-anchor=\"middle\" x=\"1570.5402\" y=\"-579.3534\" font-family=\"Times,serif\" font-size=\"14.00\" fill=\"#000000\">Down</text>\n</g>\n<!-- Courtyard&#45;&gt;Tower Stairs -->\n<g id=\"edge5\" class=\"edge\">\n<title>Courtyard&#45;&gt;Tower Stairs</title>\n<path fill=\"none\" stroke=\"#000000\" d=\"M1588.6334,-557.6571C1589.6344,-563.6059 1590.4996,-569.7353 1591.0402,-575.5534 1591.7266,-582.9426 1591.4971,-590.7531 1590.7542,-598.3495\"/>\n<polygon fill=\"#000000\" stroke=\"#000000\" points=\"1587.2509,-598.1542 1589.4608,-608.516 1594.195,-599.0377 1587.2509,-598.1542\"/>\n<text text-anchor=\"middle\" x=\"1603.0402\" y=\"-579.3534\" font-family=\"Times,serif\" font-size=\"14.00\" fill=\"#000000\">Up</text>\n</g>\n<!-- Drawbridge -->\n<g id=\"node4\" class=\"node\">\n<title>Drawbridge</title>\n<ellipse fill=\"#b2dfee\" stroke=\"#b2dfee\" cx=\"911.0402\" cy=\"-400.4874\" rx=\"391.0601\" ry=\"35.2113\"/>\n<text text-anchor=\"start\" x=\"865.0402\" y=\"-411.2874\" font-family=\"Times,serif\" font-weight=\"bold\" font-size=\"14.00\" fill=\"#000000\">Drawbridge</text>\n<text text-anchor=\"start\" x=\"642.5402\" y=\"-397.2874\" font-family=\"Times,serif\" font-size=\"14.00\" fill=\"#000000\">You are standing on one side of a drawbridge leading to ACTION CASTLE.</text>\n<text text-anchor=\"start\" x=\"908.5402\" y=\"-383.2874\" font-family=\"Times,serif\" font-size=\"14.00\" fill=\"#000000\"> </text>\n</g>\n<!-- Courtyard&#45;&gt;Drawbridge -->\n<g id=\"edge4\" class=\"edge\">\n<title>Courtyard&#45;&gt;Drawbridge</title>\n<path fill=\"none\" stroke=\"#000000\" d=\"M1428.5878,-494.5039C1329.6416,-476.5296 1200.1083,-452.9988 1095.3848,-433.975\"/>\n<polygon fill=\"#000000\" stroke=\"#000000\" points=\"1095.7941,-430.4922 1085.3296,-432.1484 1094.543,-437.3794 1095.7941,-430.4922\"/>\n<text text-anchor=\"middle\" x=\"1305.0402\" y=\"-457.6427\" font-family=\"Times,serif\" font-size=\"14.00\" fill=\"#000000\">West</text>\n</g>\n<!-- Dungeon Stairs -->\n<g id=\"node5\" class=\"node\">\n<title>Dungeon Stairs</title>\n<ellipse fill=\"#b2dfee\" stroke=\"#b2dfee\" cx=\"1581.0402\" cy=\"-400.4874\" rx=\"260.8448\" ry=\"35.2113\"/>\n<text text-anchor=\"start\" x=\"1518.5402\" y=\"-411.2874\" font-family=\"Times,serif\" font-weight=\"bold\" font-size=\"14.00\" fill=\"#000000\">Dungeon Stairs</text>\n<text text-anchor=\"start\" x=\"1404.5402\" y=\"-397.2874\" font-family=\"Times,serif\" font-size=\"14.00\" fill=\"#000000\">You are climbing the stairs down to the dungeon.</text>\n<text text-anchor=\"start\" x=\"1578.5402\" y=\"-383.2874\" font-family=\"Times,serif\" font-size=\"14.00\" fill=\"#000000\"> </text>\n</g>\n<!-- Courtyard&#45;&gt;Dungeon Stairs -->\n<g id=\"edge6\" class=\"edge\">\n<title>Courtyard&#45;&gt;Dungeon Stairs</title>\n<path fill=\"none\" stroke=\"#000000\" d=\"M1557.1421,-486.8808C1554.2174,-481.0698 1551.6844,-474.9458 1550.0402,-468.8427 1547.9427,-461.0576 1548.6701,-453.0426 1550.9794,-445.3636\"/>\n<polygon fill=\"#000000\" stroke=\"#000000\" points=\"1554.3125,-446.4484 1554.657,-435.8592 1547.7841,-443.9224 1554.3125,-446.4484\"/>\n<text text-anchor=\"middle\" x=\"1570.5402\" y=\"-457.6427\" font-family=\"Times,serif\" font-size=\"14.00\" fill=\"#000000\">Down</text>\n</g>\n<!-- Great Feasting Hall -->\n<g id=\"node6\" class=\"node\">\n<title>Great Feasting Hall</title>\n<ellipse fill=\"#b2dfee\" stroke=\"#b2dfee\" cx=\"2080.0402\" cy=\"-400.4874\" rx=\"219.8205\" ry=\"35.2113\"/>\n<text text-anchor=\"start\" x=\"2002.0402\" y=\"-411.2874\" font-family=\"Times,serif\" font-weight=\"bold\" font-size=\"14.00\" fill=\"#000000\">Great Feasting Hall</text>\n<text text-anchor=\"start\" x=\"1932.5402\" y=\"-397.2874\" font-family=\"Times,serif\" font-size=\"14.00\" fill=\"#000000\">You stand inside the Great Feasting Hall.</text>\n<text text-anchor=\"start\" x=\"2077.5402\" y=\"-383.2874\" font-family=\"Times,serif\" font-size=\"14.00\" fill=\"#000000\"> </text>\n</g>\n<!-- Courtyard&#45;&gt;Great Feasting Hall -->\n<g id=\"edge7\" class=\"edge\">\n<title>Courtyard&#45;&gt;Great Feasting Hall</title>\n<path fill=\"none\" stroke=\"#000000\" d=\"M1705.9932,-491.7209C1780.0365,-473.661 1873.7624,-450.8004 1948.87,-432.481\"/>\n<polygon fill=\"#000000\" stroke=\"#000000\" points=\"1949.9847,-435.8118 1958.8705,-430.0418 1948.3259,-429.0111 1949.9847,-435.8118\"/>\n<text text-anchor=\"middle\" x=\"1876.5402\" y=\"-457.6427\" font-family=\"Times,serif\" font-size=\"14.00\" fill=\"#000000\">East</text>\n</g>\n<!-- Drawbridge&#45;&gt;Courtyard -->\n<g id=\"edge9\" class=\"edge\">\n<title>Drawbridge&#45;&gt;Courtyard</title>\n<path fill=\"none\" stroke=\"#000000\" d=\"M1164.6383,-427.457C1218.4707,-434.7324 1274.8065,-443.5139 1327.0402,-453.8427 1372.7497,-462.8815 1422.3719,-475.5737 1465.5267,-487.5714\"/>\n<polygon fill=\"#000000\" stroke=\"#000000\" points=\"1464.6294,-490.9546 1475.2027,-490.2797 1466.5163,-484.2137 1464.6294,-490.9546\"/>\n<text text-anchor=\"middle\" x=\"1407.5402\" y=\"-457.6427\" font-family=\"Times,serif\" font-size=\"14.00\" fill=\"#000000\">East</text>\n</g>\n<!-- Winding Path -->\n<g id=\"node7\" class=\"node\">\n<title>Winding Path</title>\n<ellipse fill=\"#b2dfee\" stroke=\"#b2dfee\" cx=\"895.0402\" cy=\"-278.7767\" rx=\"330.852\" ry=\"35.2113\"/>\n<text text-anchor=\"start\" x=\"840.5402\" y=\"-289.5767\" font-family=\"Times,serif\" font-weight=\"bold\" font-size=\"14.00\" fill=\"#000000\">Winding Path</text>\n<text text-anchor=\"start\" x=\"669.0402\" y=\"-275.5767\" font-family=\"Times,serif\" font-size=\"14.00\" fill=\"#000000\">You are walking along a winding path. There is a tall tree here.</text>\n<text text-anchor=\"start\" x=\"892.5402\" y=\"-261.5767\" font-family=\"Times,serif\" font-size=\"14.00\" fill=\"#000000\"> </text>\n</g>\n<!-- Drawbridge&#45;&gt;Winding Path -->\n<g id=\"edge8\" class=\"edge\">\n<title>Drawbridge&#45;&gt;Winding Path</title>\n<path fill=\"none\" stroke=\"#000000\" d=\"M878.9219,-365.0161C875.2911,-359.3634 872.1452,-353.3261 870.0402,-347.132 867.4672,-339.561 867.6939,-331.5562 869.4933,-323.7947\"/>\n<polygon fill=\"#000000\" stroke=\"#000000\" points=\"872.8669,-324.7337 872.5214,-314.1445 866.188,-322.638 872.8669,-324.7337\"/>\n<text text-anchor=\"middle\" x=\"888.0402\" y=\"-335.932\" font-family=\"Times,serif\" font-size=\"14.00\" fill=\"#000000\">West</text>\n</g>\n<!-- Dungeon Stairs&#45;&gt;Courtyard -->\n<g id=\"edge10\" class=\"edge\">\n<title>Dungeon Stairs&#45;&gt;Courtyard</title>\n<path fill=\"none\" stroke=\"#000000\" d=\"M1588.6334,-435.9464C1589.6344,-441.8952 1590.4996,-448.0247 1591.0402,-453.8427 1591.7266,-461.2319 1591.4971,-469.0424 1590.7542,-476.6389\"/>\n<polygon fill=\"#000000\" stroke=\"#000000\" points=\"1587.2509,-476.4436 1589.4608,-486.8053 1594.195,-477.327 1587.2509,-476.4436\"/>\n<text text-anchor=\"middle\" x=\"1603.0402\" y=\"-457.6427\" font-family=\"Times,serif\" font-size=\"14.00\" fill=\"#000000\">Up</text>\n</g>\n<!-- Dungeon -->\n<g id=\"node8\" class=\"node\">\n<title>Dungeon</title>\n<ellipse fill=\"#b2dfee\" stroke=\"#b2dfee\" cx=\"1541.0402\" cy=\"-278.7767\" rx=\"284.0141\" ry=\"35.2113\"/>\n<text text-anchor=\"start\" x=\"1504.5402\" y=\"-289.5767\" font-family=\"Times,serif\" font-weight=\"bold\" font-size=\"14.00\" fill=\"#000000\">Dungeon</text>\n<text text-anchor=\"start\" x=\"1348.0402\" y=\"-275.5767\" font-family=\"Times,serif\" font-size=\"14.00\" fill=\"#000000\">You are in the dungeon. There is a spooky ghost here.</text>\n<text text-anchor=\"start\" x=\"1538.5402\" y=\"-261.5767\" font-family=\"Times,serif\" font-size=\"14.00\" fill=\"#000000\"> </text>\n</g>\n<!-- Dungeon Stairs&#45;&gt;Dungeon -->\n<g id=\"edge11\" class=\"edge\">\n<title>Dungeon Stairs&#45;&gt;Dungeon</title>\n<path fill=\"none\" stroke=\"#000000\" d=\"M1536.5345,-365.3866C1531.8857,-359.7941 1527.8431,-353.674 1525.0402,-347.132 1521.9697,-339.9656 1521.4327,-332.1126 1522.3549,-324.3636\"/>\n<polygon fill=\"#000000\" stroke=\"#000000\" points=\"1525.8379,-324.7883 1524.3172,-314.3031 1518.9674,-323.4481 1525.8379,-324.7883\"/>\n<text text-anchor=\"middle\" x=\"1545.5402\" y=\"-335.932\" font-family=\"Times,serif\" font-size=\"14.00\" fill=\"#000000\">Down</text>\n</g>\n<!-- Great Feasting Hall&#45;&gt;Courtyard -->\n<g id=\"edge12\" class=\"edge\">\n<title>Great Feasting Hall&#45;&gt;Courtyard</title>\n<path fill=\"none\" stroke=\"#000000\" d=\"M2001.3927,-433.6103C1969.4543,-446.0705 1931.9234,-459.4743 1897.0402,-468.8427 1856.4976,-479.731 1812.4035,-488.8359 1770.3732,-496.2627\"/>\n<polygon fill=\"#000000\" stroke=\"#000000\" points=\"1769.5581,-492.8519 1760.3073,-498.0166 1770.7597,-499.748 1769.5581,-492.8519\"/>\n<text text-anchor=\"middle\" x=\"1961.0402\" y=\"-457.6427\" font-family=\"Times,serif\" font-size=\"14.00\" fill=\"#000000\">West</text>\n</g>\n<!-- Throne Room -->\n<g id=\"node9\" class=\"node\">\n<title>Throne Room</title>\n<ellipse fill=\"#b2dfee\" stroke=\"#b2dfee\" cx=\"2090.0402\" cy=\"-278.7767\" rx=\"240.3326\" ry=\"35.2113\"/>\n<text text-anchor=\"start\" x=\"2035.0402\" y=\"-289.5767\" font-family=\"Times,serif\" font-weight=\"bold\" font-size=\"14.00\" fill=\"#000000\">Throne Room</text>\n<text text-anchor=\"start\" x=\"1928.0402\" y=\"-275.5767\" font-family=\"Times,serif\" font-size=\"14.00\" fill=\"#000000\">This is the throne room of ACTION CASTLE.</text>\n<text text-anchor=\"start\" x=\"2087.5402\" y=\"-261.5767\" font-family=\"Times,serif\" font-size=\"14.00\" fill=\"#000000\"> </text>\n</g>\n<!-- Great Feasting Hall&#45;&gt;Throne Room -->\n<g id=\"edge13\" class=\"edge\">\n<title>Great Feasting Hall&#45;&gt;Throne Room</title>\n<path fill=\"none\" stroke=\"#000000\" d=\"M2054.572,-365.0966C2049.8992,-354.6233 2047.4791,-343.0385 2051.0402,-332.132 2052.0551,-329.0235 2053.3275,-325.9458 2054.7873,-322.9306\"/>\n<polygon fill=\"#000000\" stroke=\"#000000\" points=\"2057.8909,-324.5505 2059.6594,-314.1043 2051.7626,-321.1677 2057.8909,-324.5505\"/>\n<text text-anchor=\"middle\" x=\"2067.5402\" y=\"-335.932\" font-family=\"Times,serif\" font-size=\"14.00\" fill=\"#000000\">East</text>\n</g>\n<!-- Winding Path&#45;&gt;Drawbridge -->\n<g id=\"edge16\" class=\"edge\">\n<title>Winding Path&#45;&gt;Drawbridge</title>\n<path fill=\"none\" stroke=\"#000000\" d=\"M903.0257,-314.253C904.1709,-320.1997 905.2325,-326.324 906.0402,-332.132 907.0542,-339.4243 907.8701,-347.1848 908.5245,-354.7611\"/>\n<polygon fill=\"#000000\" stroke=\"#000000\" points=\"905.0497,-355.2208 909.3201,-364.9169 912.0283,-354.6741 905.0497,-355.2208\"/>\n<text text-anchor=\"middle\" x=\"924.5402\" y=\"-335.932\" font-family=\"Times,serif\" font-size=\"14.00\" fill=\"#000000\">East</text>\n</g>\n<!-- Garden Path -->\n<g id=\"node10\" class=\"node\">\n<title>Garden Path</title>\n<ellipse fill=\"#b2dfee\" stroke=\"#b2dfee\" cx=\"516.0402\" cy=\"-157.066\" rx=\"337.08\" ry=\"35.2113\"/>\n<text text-anchor=\"start\" x=\"466.0402\" y=\"-167.866\" font-family=\"Times,serif\" font-weight=\"bold\" font-size=\"14.00\" fill=\"#000000\">Garden Path</text>\n<text text-anchor=\"start\" x=\"285.5402\" y=\"-153.866\" font-family=\"Times,serif\" font-size=\"14.00\" fill=\"#000000\">You are standing on a lush garden path. There is a cottage here.</text>\n<text text-anchor=\"start\" x=\"513.5402\" y=\"-139.866\" font-family=\"Times,serif\" font-size=\"14.00\" fill=\"#000000\"> </text>\n</g>\n<!-- Winding Path&#45;&gt;Garden Path -->\n<g id=\"edge14\" class=\"edge\">\n<title>Winding Path&#45;&gt;Garden Path</title>\n<path fill=\"none\" stroke=\"#000000\" d=\"M790.4735,-245.1965C740.8663,-229.2659 681.4683,-210.191 630.6389,-193.8678\"/>\n<polygon fill=\"#000000\" stroke=\"#000000\" points=\"631.5141,-190.4729 620.9229,-190.7477 629.3738,-197.1377 631.5141,-190.4729\"/>\n<text text-anchor=\"middle\" x=\"750.5402\" y=\"-214.2214\" font-family=\"Times,serif\" font-size=\"14.00\" fill=\"#000000\">South</text>\n</g>\n<!-- Top of the Tall Tree -->\n<g id=\"node11\" class=\"node\">\n<title>Top of the Tall Tree</title>\n<ellipse fill=\"#b2dfee\" stroke=\"#b2dfee\" cx=\"1039.0402\" cy=\"-157.066\" rx=\"167.6687\" ry=\"35.2113\"/>\n<text text-anchor=\"start\" x=\"961.0402\" y=\"-167.866\" font-family=\"Times,serif\" font-weight=\"bold\" font-size=\"14.00\" fill=\"#000000\">Top of the Tall Tree</text>\n<text text-anchor=\"start\" x=\"928.5402\" y=\"-153.866\" font-family=\"Times,serif\" font-size=\"14.00\" fill=\"#000000\">You are the top of the tall tree.</text>\n<text text-anchor=\"start\" x=\"1036.5402\" y=\"-139.866\" font-family=\"Times,serif\" font-size=\"14.00\" fill=\"#000000\"> </text>\n</g>\n<!-- Winding Path&#45;&gt;Top of the Tall Tree -->\n<g id=\"edge15\" class=\"edge\">\n<title>Winding Path&#45;&gt;Top of the Tall Tree</title>\n<path fill=\"none\" stroke=\"#000000\" d=\"M934.8573,-243.3434C947.0257,-232.661 960.5051,-220.9736 973.0402,-210.4214 977.9223,-206.3115 983.0418,-202.065 988.1784,-197.8457\"/>\n<polygon fill=\"#000000\" stroke=\"#000000\" points=\"990.7056,-200.3005 996.2327,-191.2615 986.2752,-194.8809 990.7056,-200.3005\"/>\n<text text-anchor=\"middle\" x=\"984.0402\" y=\"-214.2214\" font-family=\"Times,serif\" font-size=\"14.00\" fill=\"#000000\">Up</text>\n</g>\n<!-- Dungeon&#45;&gt;Dungeon Stairs -->\n<g id=\"edge17\" class=\"edge\">\n<title>Dungeon&#45;&gt;Dungeon Stairs</title>\n<path fill=\"none\" stroke=\"#000000\" d=\"M1558.9685,-314.2018C1561.5664,-320.1004 1564.0353,-326.2229 1566.0402,-332.132 1568.5101,-339.4119 1570.6754,-347.2689 1572.5358,-354.9731\"/>\n<polygon fill=\"#000000\" stroke=\"#000000\" points=\"1569.1747,-355.9771 1574.8059,-364.9515 1576.0003,-354.4242 1569.1747,-355.9771\"/>\n<text text-anchor=\"middle\" x=\"1582.0402\" y=\"-335.932\" font-family=\"Times,serif\" font-size=\"14.00\" fill=\"#000000\">Up</text>\n</g>\n<!-- Throne Room&#45;&gt;Great Feasting Hall -->\n<g id=\"edge18\" class=\"edge\">\n<title>Throne Room&#45;&gt;Great Feasting Hall</title>\n<path fill=\"none\" stroke=\"#000000\" d=\"M2087.1345,-314.1414C2086.0884,-326.8738 2084.893,-341.4233 2083.7854,-354.9039\"/>\n<polygon fill=\"#000000\" stroke=\"#000000\" points=\"2080.2902,-354.7034 2082.9594,-364.9564 2087.2666,-355.2766 2080.2902,-354.7034\"/>\n<text text-anchor=\"middle\" x=\"2103.0402\" y=\"-335.932\" font-family=\"Times,serif\" font-size=\"14.00\" fill=\"#000000\">West</text>\n</g>\n<!-- Garden Path&#45;&gt;Winding Path -->\n<g id=\"edge21\" class=\"edge\">\n<title>Garden Path&#45;&gt;Winding Path</title>\n<path fill=\"none\" stroke=\"#000000\" d=\"M698.5815,-186.8063C724.961,-193.3188 751.4761,-201.1221 776.0402,-210.4214 795.6677,-217.8518 815.8771,-228.2617 833.9442,-238.7211\"/>\n<polygon fill=\"#000000\" stroke=\"#000000\" points=\"832.2385,-241.7784 842.6295,-243.8468 835.7963,-235.75 832.2385,-241.7784\"/>\n<text text-anchor=\"middle\" x=\"828.5402\" y=\"-214.2214\" font-family=\"Times,serif\" font-size=\"14.00\" fill=\"#000000\">North</text>\n</g>\n<!-- Cottage -->\n<g id=\"node12\" class=\"node\">\n<title>Cottage</title>\n<ellipse fill=\"#b2dfee\" stroke=\"#b2dfee\" cx=\"193.0402\" cy=\"-35.3553\" rx=\"193.0803\" ry=\"35.2113\"/>\n<text text-anchor=\"start\" x=\"161.5402\" y=\"-46.1553\" font-family=\"Times,serif\" font-weight=\"bold\" font-size=\"14.00\" fill=\"#000000\">Cottage</text>\n<text text-anchor=\"start\" x=\"64.5402\" y=\"-32.1553\" font-family=\"Times,serif\" font-size=\"14.00\" fill=\"#000000\">You are standing in a small cottage.</text>\n<text text-anchor=\"start\" x=\"190.5402\" y=\"-18.1553\" font-family=\"Times,serif\" font-size=\"14.00\" fill=\"#000000\"> </text>\n</g>\n<!-- Garden Path&#45;&gt;Cottage -->\n<g id=\"edge19\" class=\"edge\">\n<title>Garden Path&#45;&gt;Cottage</title>\n<path fill=\"none\" stroke=\"#000000\" d=\"M425.6371,-123.001C382.4298,-106.7199 330.74,-87.2424 287.0729,-70.7881\"/>\n<polygon fill=\"#000000\" stroke=\"#000000\" points=\"288.1886,-67.4684 277.5968,-67.2174 285.7203,-74.0188 288.1886,-67.4684\"/>\n<text text-anchor=\"middle\" x=\"382.0402\" y=\"-92.5107\" font-family=\"Times,serif\" font-size=\"14.00\" fill=\"#000000\">In</text>\n</g>\n<!-- Fishing Pond -->\n<g id=\"node13\" class=\"node\">\n<title>Fishing Pond</title>\n<ellipse fill=\"#b2dfee\" stroke=\"#b2dfee\" cx=\"635.0402\" cy=\"-35.3553\" rx=\"230.5336\" ry=\"35.2113\"/>\n<text text-anchor=\"start\" x=\"582.5402\" y=\"-46.1553\" font-family=\"Times,serif\" font-weight=\"bold\" font-size=\"14.00\" fill=\"#000000\">Fishing Pond</text>\n<text text-anchor=\"start\" x=\"480.0402\" y=\"-32.1553\" font-family=\"Times,serif\" font-size=\"14.00\" fill=\"#000000\">You are at the edge of a small fishing pond.</text>\n<text text-anchor=\"start\" x=\"632.5402\" y=\"-18.1553\" font-family=\"Times,serif\" font-size=\"14.00\" fill=\"#000000\"> </text>\n</g>\n<!-- Garden Path&#45;&gt;Fishing Pond -->\n<g id=\"edge20\" class=\"edge\">\n<title>Garden Path&#45;&gt;Fishing Pond</title>\n<path fill=\"none\" stroke=\"#000000\" d=\"M540.9819,-121.7031C549.3908,-110.6869 559.1608,-98.7928 569.0402,-88.7107 572.9073,-84.7642 577.0577,-80.829 581.3253,-76.9865\"/>\n<polygon fill=\"#000000\" stroke=\"#000000\" points=\"583.8754,-79.406 589.098,-70.1877 579.2668,-74.1371 583.8754,-79.406\"/>\n<text text-anchor=\"middle\" x=\"590.5402\" y=\"-92.5107\" font-family=\"Times,serif\" font-size=\"14.00\" fill=\"#000000\">South</text>\n</g>\n<!-- Top of the Tall Tree&#45;&gt;Winding Path -->\n<g id=\"edge22\" class=\"edge\">\n<title>Top of the Tall Tree&#45;&gt;Winding Path</title>\n<path fill=\"none\" stroke=\"#000000\" d=\"M1021.0712,-192.3294C1014.0439,-203.8357 1005.2119,-216.0494 995.0402,-225.4214 989.9841,-230.0798 984.4456,-234.4605 978.6505,-238.5525\"/>\n<polygon fill=\"#000000\" stroke=\"#000000\" points=\"976.3667,-235.8693 970.0027,-244.3398 980.26,-241.6868 976.3667,-235.8693\"/>\n<text text-anchor=\"middle\" x=\"1029.5402\" y=\"-214.2214\" font-family=\"Times,serif\" font-size=\"14.00\" fill=\"#000000\">Down</text>\n</g>\n<!-- The Afterlife -->\n<g id=\"node14\" class=\"node\">\n<title>The Afterlife</title>\n<ellipse fill=\"#b2dfee\" stroke=\"#b2dfee\" cx=\"1039.0402\" cy=\"-35.3553\" rx=\"153.3844\" ry=\"35.2113\"/>\n<text text-anchor=\"start\" x=\"988.0402\" y=\"-46.1553\" font-family=\"Times,serif\" font-weight=\"bold\" font-size=\"14.00\" fill=\"#000000\">The Afterlife</text>\n<text text-anchor=\"start\" x=\"938.5402\" y=\"-32.1553\" font-family=\"Times,serif\" font-size=\"14.00\" fill=\"#000000\">You are dead. GAME OVER.</text>\n<text text-anchor=\"start\" x=\"1036.5402\" y=\"-18.1553\" font-family=\"Times,serif\" font-size=\"14.00\" fill=\"#000000\"> </text>\n</g>\n<!-- Top of the Tall Tree&#45;&gt;The Afterlife -->\n<g id=\"edge23\" class=\"edge\">\n<title>Top of the Tall Tree&#45;&gt;The Afterlife</title>\n<path fill=\"none\" stroke=\"#000000\" d=\"M1039.0402,-121.5351C1039.0402,-108.7869 1039.0402,-94.2342 1039.0402,-80.763\"/>\n<polygon fill=\"#000000\" stroke=\"#000000\" points=\"1042.5403,-80.72 1039.0402,-70.72 1035.5403,-80.7201 1042.5403,-80.72\"/>\n<text text-anchor=\"middle\" x=\"1058.0402\" y=\"-92.5107\" font-family=\"Times,serif\" font-size=\"14.00\" fill=\"#000000\">Jump</text>\n</g>\n<!-- Cottage&#45;&gt;Garden Path -->\n<g id=\"edge24\" class=\"edge\">\n<title>Cottage&#45;&gt;Garden Path</title>\n<path fill=\"none\" stroke=\"#000000\" d=\"M315.8204,-62.6958C342.0387,-69.9824 369.2796,-78.6746 394.0402,-88.7107 413.4732,-96.5874 433.68,-106.9295 451.9265,-117.177\"/>\n<polygon fill=\"#000000\" stroke=\"#000000\" points=\"450.2938,-120.275 460.7144,-122.1888 453.7617,-114.1944 450.2938,-120.275\"/>\n<text text-anchor=\"middle\" x=\"440.0402\" y=\"-92.5107\" font-family=\"Times,serif\" font-size=\"14.00\" fill=\"#000000\">Out</text>\n</g>\n<!-- Fishing Pond&#45;&gt;Garden Path -->\n<g id=\"edge25\" class=\"edge\">\n<title>Fishing Pond&#45;&gt;Garden Path</title>\n<path fill=\"none\" stroke=\"#000000\" d=\"M628.4348,-70.9024C624.9926,-82.3002 619.809,-94.375 612.0402,-103.7107 608.2896,-108.2176 604.055,-112.4117 599.5067,-116.3029\"/>\n<polygon fill=\"#000000\" stroke=\"#000000\" points=\"597.2581,-113.6189 591.5861,-122.5676 601.6006,-119.1092 597.2581,-113.6189\"/>\n<text text-anchor=\"middle\" x=\"643.5402\" y=\"-92.5107\" font-family=\"Times,serif\" font-size=\"14.00\" fill=\"#000000\">North</text>\n</g>\n</g>\n</svg>\n",
                        "text/plain": "<graphviz.graphs.Digraph at 0x7fbc5e05c4f0>"
                    },
                    "metadata": {}
                }
            ],
            "outputs_reference": "s3:deepnote-cell-outputs-production/1cf5baa3-49c0-42a3-b58e-82a818656c97",
            "content_dependencies": null
        },
        {
            "cell_type": "markdown",
            "metadata": {
                "cell_id": "91b0ea28f76f46e88afe570ab3266ada",
                "deepnote_cell_type": "markdown"
            },
            "source": "## Items",
            "block_group": "ca56e9f627424990915bc8742f5c51fe"
        },
        {
            "cell_type": "markdown",
            "metadata": {
                "cell_id": "2150a7294f764d20a94d76681504fb4e",
                "deepnote_cell_type": "markdown"
            },
            "source": "### Gettable Items",
            "block_group": "201c56a4de5e43a6863f0bf4cc22892e"
        },
        {
            "cell_type": "code",
            "metadata": {
                "source_hash": "9ba7096b",
                "execution_start": 1725834100890,
                "execution_millis": 269,
                "deepnote_to_be_reexecuted": false,
                "cell_id": "008cd90caf924692aed3ffce5d94263f",
                "deepnote_cell_type": "code"
            },
            "source": "# Put a fishing pole at the cottage\nfishing_pole = things.Item(\n    \"pole\",\n    \"a fishing pole\",\n    \"A SIMPLE FISHING POLE.\",\n)\ncottage.add_item(fishing_pole)\n\n\n# Put a branch in a tree that could be used as a weapon\nbranch = things.Item(\n    \"branch\",\n    \"a stout, dead branch\",\n    \"IT LOOKS LIKE IT WOULD MAKE A GOOD CLUB.\",\n)\nbranch.set_property(\"is_weapon\", True)\nbranch.set_property(\"is_fragile\", True)\ntop_of_tree.add_item(branch)\n\n\n# Put a candle in the feasting hall\ncandle = things.Item(\n    \"candle\",\n    \"a strange candle\",\n    \"THE CANDLE IS COVERED IN STARGE RUNES.\",\n)\ncandle.set_property(\"is_lightable\", True)\ncandle.set_property(\"is_lit\", False)\ncandle.add_command_hint(\"light candle\")\ncandle.add_command_hint(\"read runes\")\nfeasting_hall.add_item(candle)\n",
            "block_group": "c91eb9dfbfd746d885f68f5cbf75e662",
            "execution_count": 4,
            "outputs": [],
            "outputs_reference": null,
            "content_dependencies": null
        },
        {
            "cell_type": "markdown",
            "metadata": {
                "cell_id": "094f6ee5c2dd4389bccd5fea22d957e6",
                "deepnote_cell_type": "markdown"
            },
            "source": "### Scenery Items\n\n_We called these \"non-gettable\" in the tutorial_",
            "block_group": "3bbafaa400b14c4dbd68eb3a74a3c75f"
        },
        {
            "cell_type": "code",
            "metadata": {
                "source_hash": "3b58568",
                "execution_start": 1725834100903,
                "execution_millis": 256,
                "deepnote_to_be_reexecuted": false,
                "cell_id": "2f1b0fe58b9d4e16a23d53076bff5c76",
                "deepnote_cell_type": "code"
            },
            "source": "# Put an actual pond at the fishing location\npond = things.Item(\n    \"pond\",\n    \"a small fishing pond\",\n    \"THERE ARE FISH IN THE POND.\",\n)\npond.set_property(\"gettable\", False)\npond.set_property(\"has_fish\", True)\npond.add_command_hint(\"catch fish\")\npond.add_command_hint(\"catch fish with pole\")\nfishing_pond.add_item(pond)\n\n\n# A nice rosebush for the garden path\nrosebush = things.Item(\n    \"rosebush\",\n    \"a rosebush\",\n    \"THE ROSEBUSH CONTAINS A SINGLE RED ROSE.  IT IS BEAUTIFUL.\",\n)\nrosebush.set_property(\"gettable\", False)\nrosebush.set_property(\"has_rose\", True)\nrosebush.add_command_hint(\"pick rose\")\ngarden_path.add_item(rosebush)\n\n\n# Throne room wouldn't be that impressive without a throne\nthrone = things.Item(\n    \"throne\",\n    \"An ornate golden throne.\"\n)\nthrone.set_property(\"gettable\", False)\nthrone.add_command_hint(\"sit on throne\")\nthrone_room.add_item(throne)\n\n\n# A door that leads to the tower stairs\ndoor = things.Item(\n    \"door\",\n    \"a door\",\n    \"THE DOOR IS SECURELY LOCKED.\"\n)\ndoor.set_property(\"gettable\", False)\ndoor.set_property(\"is_locked\", True)\ndoor.add_command_hint(\"unlock door\")\ntower_stairs.add_item(door)\n",
            "block_group": "97b03c2271814b19be1118cbe8d00ec3",
            "execution_count": 5,
            "outputs": [],
            "outputs_reference": null,
            "content_dependencies": null
        },
        {
            "cell_type": "markdown",
            "metadata": {
                "cell_id": "8fd700bf59a04465b4926661183a126b",
                "deepnote_cell_type": "markdown"
            },
            "source": "## Characters",
            "block_group": "243beee7d10e409caef8503250c958af"
        },
        {
            "cell_type": "markdown",
            "metadata": {
                "cell_id": "956888622bd649778da8108620afa8f9",
                "deepnote_cell_type": "markdown"
            },
            "source": "### Player",
            "block_group": "945efcd3a1034a41b6377ae1877046c6"
        },
        {
            "cell_type": "code",
            "metadata": {
                "source_hash": "4b9502cb",
                "execution_start": 1725834100944,
                "execution_millis": 216,
                "deepnote_to_be_reexecuted": false,
                "cell_id": "e4d4a2d9e6c04701a5032850620b22b8",
                "deepnote_cell_type": "code"
            },
            "source": "# Player\nplayer = things.Character(\n    name=\"The player\",\n    description=\"You are a simple peasant destined for greatness.\",\n    persona=\"I am on an adventure.\",\n)\n\n# Player's lamp\nlamp = things.Item(\"lamp\", \"a lamp\", \"A LAMself.\")\nlamp.set_property(\"is_lightable\", True)\nlamp.set_property(\"is_lit\", False)\nlamp.add_command_hint(\"light lamp\")\nplayer.add_to_inventory(lamp)\n",
            "block_group": "1e7d54a1498645159b4f8c5d6c2fc997",
            "execution_count": 6,
            "outputs": [],
            "outputs_reference": null,
            "content_dependencies": null
        },
        {
            "cell_type": "markdown",
            "metadata": {
                "cell_id": "7c58429eac4d46e0808827284758e93e",
                "deepnote_cell_type": "markdown"
            },
            "source": "### Non-Player Characters (NPCs)",
            "block_group": "0caf44df1f6741f99082e89c1d3c453a"
        },
        {
            "cell_type": "code",
            "metadata": {
                "source_hash": "ed97f1f9",
                "execution_start": 1725834100944,
                "execution_millis": 216,
                "deepnote_to_be_reexecuted": false,
                "cell_id": "22dfe7016b924ded8e68abe933004342",
                "deepnote_cell_type": "code"
            },
            "source": "# A Troll at the drawbridge\ntroll = things.Character(\n    name=\"troll\",\n    description=\"A mean troll\",\n    persona=\"I am hungry. The guard promised to feed me if I guard the drawbridge and keep people out of the castle.\",\n)\ntroll.set_property(\"is_hungry\", True)\ntroll.set_property(\"character_type\", \"troll\")\ndrawbridge.add_character(troll)\n\n# A Darkness at the Dungeon Stairs\ndarkness = things.Character(\n    name=\"darkness\",\n    description=\"A thick fog of darkness\",\n    persona=\"I am an insidious fog of darkness that appears in areas of runic magic and ghoulish monsters. I prevent people without light from entering.\",\n)\ndarkness.set_property(\"character_type\", \"darkness\")\ndungeon_stairs.add_character(darkness)\n\n# A guard in the courtyard\nguard = things.Character(\n    name=\"guard\",\n    description=\"A castle guard\",\n    persona=\"I am suspicious of anyone trying to enter the castle. I will prevent keep people from entering and learning the castle's dark secrets.\",\n)\nguard.set_property(\"is_conscious\", True)\nguard.set_property(\"is_suspicious\", True)\nguard.set_property(\"character_type\", \"human\")\ncourtyard.add_character(guard)\n\n# Guard has a key\nkey = things.Item(\"key\", \"a brass key\", \"THIS LOOKS USEFUL\")\nguard.add_to_inventory(key)\n\n# Guard has a sword\nsword = things.Item(\"sword\", \"a short sword\", \"A SHARP SHORT SWORD.\")\nsword.set_property(\"is_weapon\", True)\nguard.add_to_inventory(sword)\n\n\n# A Princess in the tower\nprincess = things.Character(\n    name=\"princess\",\n    description=\"A princess who is beautiful and lonely. She awaits her non-gender-stereotypical soulmate.\",\n    persona=\"I am the princess. I am grieving my father's death. I feel alone.\",\n)\nprincess.set_property(\"is_royal\", True)\nprincess.set_property(\"emotional_state\", \"sad and lonely\")\nprincess.set_property(\"is_married\", False)\nprincess.set_property(\"character_type\", \"human\")\ntower.add_character(princess)\n\n\n# A ghost in the dungeon\nghost = things.Character(\n    name=\"ghost\",\n    description=\"A ghost with bony, claw-like fingers and who is wearing a crown.\",\n    persona=\"I was murdered by the guard. I will haunt this castle until banished. If you linger before my apparition, I will plunge my ghostly hand inside you and stop your heart\",\n)\nghost.set_property(\"character_type\", \"ghost\")\nghost.set_property(\"is_dead\", True)\nghost.set_property(\"is_banished\", False)\ndungeon.add_character(ghost)\n\n# Ghost's crown\ncrown = things.Item(\"crown\", \"a crown\", \"A CROWN FIT FOR A KING.\")\ncrown.add_command_hint(\"wear crown\")\nghost.add_to_inventory(crown)\n\n",
            "block_group": "faa05624a928426a807d74203f00066b",
            "execution_count": 7,
            "outputs": [],
            "outputs_reference": null,
            "content_dependencies": null
        },
        {
            "cell_type": "markdown",
            "metadata": {
                "cell_id": "bca57fc4c40f4b2b92a9be4d582144e5",
                "deepnote_cell_type": "markdown"
            },
            "source": "## Actions",
            "block_group": "c6bc5f99e02c4751ad93da08f059cab6"
        },
        {
            "cell_type": "markdown",
            "metadata": {
                "cell_id": "6b672fa42a344cac81bb1e525b6c3ea4",
                "deepnote_cell_type": "markdown"
            },
            "source": "Your job in this homework is to put the action in _Action Castle_! We will implement an action for each of the following:\n\n- Unlock a door\n- Read Runes\n- Propose\n- Wear the crown\n- Sit on a throne",
            "block_group": "78a223f80d7f45b2bd81fefa2aa3bd7d"
        },
        {
            "cell_type": "code",
            "metadata": {
                "source_hash": "8315ee22",
                "execution_start": 1725834100945,
                "execution_millis": 215,
                "deepnote_to_be_reexecuted": false,
                "cell_id": "99c24b4c5ed947c399a1f5e5e76ec697",
                "deepnote_cell_type": "code"
            },
            "source": "class Unlock_Door(actions.Action):\n    ACTION_NAME = \"unlock door\"\n    ACTION_DESCRIPTION = \"Unlock a door with a key\"\n    ACTION_ALIASES = []\n    \n    def __init__(self, game, command):\n        super().__init__(game)\n        self.character = self.parser.get_character(command)\n        self.key = self.parser.match_item(\n            \"key\", self.parser.get_items_in_scope(self.character)\n        )\n        self.door = self.parser.match_item(\n            \"door\", self.parser.get_items_in_scope(self.character)\n        )\n\n    def check_preconditions(self) -> bool:\n        \"\"\"\n        Preconditions:\n        * There must be a door\n        * The character must be at the same location as the door\n        * The door must be locked\n        * The character must have the key in their inventory\n        \"\"\"\n        if not self.was_matched(self.door, \"There's no door here.\"):\n            return False\n        if not self.door.location.here(self.character):\n            return False\n        if not self.door.get_property(\"is_locked\"):\n            description = \"The door is unlocked.\"\n            self.game.parser.fail(description)\n            return False\n        if not self.character.is_in_inventory(self.key):\n            return False\n        return True\n\n    def apply_effects(self):\n        \"\"\"\n        Effects:\n        * Unlocks the door\n        \"\"\"\n        self.door.set_property(\"is_locked\", False)\n        d = \"{character_name} unlocked the door\"\n        description = d.format(character_name=self.character.name)\n        self.parser.ok(description)",
            "block_group": "22a10ce0418b4180a6895749512a7047",
            "execution_count": 8,
            "outputs": [],
            "outputs_reference": null,
            "content_dependencies": null
        },
        {
            "cell_type": "code",
            "metadata": {
                "source_hash": "7588019a",
                "execution_start": 1725834100961,
                "execution_millis": 200,
                "deepnote_to_be_reexecuted": false,
                "cell_id": "3922eb6d62e14199983fc2ac0b4c87d5",
                "deepnote_cell_type": "code"
            },
            "source": "class Read_Runes(actions.Action):\n    \"\"\"\n    Reading the runes on the candle with strange runes on it will banish the\n    ghost from the dungeon, and cause it to drop the crown.\n    \"\"\"\n    ACTION_NAME = \"read runes\"\n    ACTION_DESCRIPTION = \"Read runes off of the candle\"\n    ACTION_ALIASES = []\n\n    def __init__(self, game, command):\n        super().__init__(game)\n        self.character = self.parser.get_character(command)\n        self.candle = self.parser.match_item(\n            \"candle\", self.parser.get_items_in_scope(self.character)\n        )\n        self.ghost = self.parser.get_character(\"ghost\")\n        \n\n    def check_preconditions(self) -> bool:\n        \"\"\"\n        Preconditions:\n        * There must be a candle with strange runes on it\n        * The character must have the candle in their inventory\n        * the ghost must be in this location\n        * The candle must be lit\n        \"\"\"\n        if not self.candle:\n            return False\n        if not self.character.is_in_inventory(self.candle):\n            return False\n        if not self.character.location.here(self.ghost):\n            description = \"There is no ghost in this location.\"\n            self.parser.fail(description)\n            return False\n        if not self.candle.get_property(\"is_lit\"):\n            return False\n        return True\n\n    def apply_effects(self):\n        \"\"\"\n        Effects:\n        * Banishes the ghost, causing it to drop its inventory.\n        \"\"\"\n        self.ghost.set_property(\"is_banished\", True)\n        items = list(self.ghost.inventory.keys())\n        for item_name in items:\n            item = self.ghost.inventory[item_name]\n            command = \"{ghost} drop {item}\".format(\n                ghost=self.ghost.name, item=item_name\n            )\n            drop = actions.Drop(self.game, command)\n            if drop.check_preconditions():\n                drop.apply_effects()\n",
            "block_group": "e99760a9e5004effa38b5c243aa79703",
            "execution_count": 9,
            "outputs": [],
            "outputs_reference": null,
            "content_dependencies": null
        },
        {
            "cell_type": "code",
            "metadata": {
                "source_hash": "29f1a03a",
                "execution_start": 1725834100963,
                "execution_millis": 198,
                "deepnote_to_be_reexecuted": false,
                "cell_id": "be5684897bb9420b8d27756ab15acb74",
                "deepnote_cell_type": "code"
            },
            "source": "class Propose(actions.Action):\n    \"\"\"\n    Mawwige is whut bwings us togevveh today.\n    \"\"\"\n    ACTION_NAME = \"propose marriage\"\n    ACTION_DESCRIPTION = \"Propose marriage to someone\"\n    ACTION_ALIASES = [\"propose\"] # why is this not working\n    \n    def __init__(self, game, command: str):\n        super().__init__(game) \n        propose_words = [\"propose marriage\", \"propose\"]\n        command_before_word = \"\"\n        command_after_word = command\n        for word in propose_words:\n            if word in command:\n                parts = command.split(word, 1)\n                command_before_word = parts[0]\n                command_after_word = parts[1]\n                break\n        self.proposer = self.parser.get_character(command_before_word)\n        self.propositioned = self.parser.get_character(command_after_word)\n\n    def check_preconditions(self) -> bool:\n        \"\"\"\n        Preconditions:\n        * The two characters must be in the same place\n        * Neither can be married yet\n        * Both must be happy\n        \"\"\"\n        if not self.proposer.location == self.propositioned.location:\n            description = \"There isn't any {character} in this location.\".format(\n                character=self.propositioned.name\n            )\n            self.parser.fail(description)\n            return False\n        if self.proposer.get_property(\"is_married\") or self.propositioned.get_property(\"is_married\"):\n            return False\n        if not (self.proposer.get_property(\"emotional_state\") == 'happy' and self.propositioned.get_property(\"emotional_state\") == 'happy'):\n            return False\n        return True\n\n    def apply_effects(self):\n        \"\"\"\n        Effects:\n        * They said \"Yes!\"\n        * They are married.\n        * If one is a royal, they are now both royals\n        \"\"\"\n        description = \"They said \\\"Yes!\\\"\"\n        self.parser.ok(description)\n\n        self.proposer.set_property(\"is_married\", True)\n        self.propositioned.set_property(\"is_married\", True)\n        if (self.proposer.get_property(\"is_royal\")):\n            self.propositioned.set_property(\"is_royal\", True)\n        if (self.propositioned.get_property(\"is_royal\")):\n            self.proposer.set_property(\"is_royal\", True)\n",
            "block_group": "e93cf6ff81e846ffa0b0bef4bb251d14",
            "execution_count": 10,
            "outputs": [],
            "outputs_reference": null,
            "content_dependencies": null
        },
        {
            "cell_type": "code",
            "metadata": {
                "source_hash": "26f182f2",
                "execution_start": 1725834101015,
                "execution_millis": 167,
                "deepnote_to_be_reexecuted": false,
                "cell_id": "687aec3cbce94cf08884d9b4c5d6d9f4",
                "deepnote_cell_type": "code"
            },
            "source": "class Wear_Crown(actions.Action):\n    ACTION_NAME = \"wear crown\"\n    ACTION_DESCRIPTION = \"Put a crown in your inventory atop your head\"\n    ACTION_ALIASES = []\n    \n    def __init__(self, game, command):\n        super().__init__(game)\n        self.character = self.parser.get_character(command)\n        self.crown = self.parser.match_item(\n            \"crown\", self.parser.get_items_in_scope(self.character)\n        )\n\n    def check_preconditions(self) -> bool:\n        \"\"\"\n        Preconditions:\n        * The crown must be in the character's inventory\n        * The the character must be a royal\n        \"\"\"\n        if not self.character.is_in_inventory(self.crown):\n            description = \"You don't have it.\"\n            self.parser.fail(description)\n            return False\n        if not self.character.get_property(\"is_royal\"):\n            description = \"You are not royalty bud.\"\n            self.parser.fail(description)\n            return False\n        return True\n\n    def apply_effects(self):\n        \"\"\"\n        The character is crowned.\n        \"\"\"\n        description = \"You are now wearing the crown!\"\n        self.parser.ok(description)\n\n        self.character.set_property(\"is_crowned\", True)",
            "block_group": "776d389c4b494ac1b38322016e181b08",
            "execution_count": 11,
            "outputs": [],
            "outputs_reference": null,
            "content_dependencies": null
        },
        {
            "cell_type": "code",
            "metadata": {
                "source_hash": "6ac704e6",
                "execution_start": 1725834101031,
                "execution_millis": 151,
                "deepnote_to_be_reexecuted": false,
                "cell_id": "747744e1c659468abeddcd2fd12144df",
                "deepnote_cell_type": "code"
            },
            "source": "class Sit_On_Throne(actions.Action):\n    ACTION_NAME = \"sit on throne\"\n    ACTION_DESCRIPTION = \"Sit on the throne, if you are royalty\"\n    ACTION_ALIASES = []\n    \n    def __init__(self, game, command):\n        super().__init__(game)\n        self.character = self.parser.get_character(command)\n        self.throne = self.parser.match_item(\n            \"throne\", self.parser.get_items_in_scope(self.character)\n        )\n\n    def check_preconditions(self) -> bool:\n        \"\"\"\n        Preconditions:\n        * The character must be in same location as the throne\n        * The character must be a royal\n        * The character must be crowned\n        \"\"\"\n        if not self.character.location.here(self.throne):\n            description = \"There is no throne here.\"\n            self.parser.fail(description)\n            return False\n        if not self.character.get_property(\"is_royal\"):\n            description = \"You are not royalty bud.\"\n            self.parser.fail(description)\n            return False\n        if not self.character.get_property(\"is_crowned\"):\n            description = \"You need a crown to be on the throne.\"\n            self.parser.fail(description)\n            return False\n        return True\n\n    def apply_effects(self):\n        \"\"\"\n        The character is crowned.\n        Josh - I think the character is supposed to be seated on the throne\n        Tristan - looking at the game loop below, it seems like we need to set is_reigning instead of is_seated\n        \"\"\"\n        description = \"You are now seated on the throne!\"\n        self.parser.ok(description)\n\n        self.character.set_property(\"is_reigning\", True)",
            "block_group": "b63407cce0a2451790d45d362616200f",
            "execution_count": 12,
            "outputs": [],
            "outputs_reference": null,
            "content_dependencies": null
        },
        {
            "cell_type": "markdown",
            "metadata": {
                "cell_id": "419a4fde0fc64a4da31cd2d1507dc4d1",
                "deepnote_cell_type": "markdown"
            },
            "source": "## Blocks\n\nIn text adventure games, _blocks_ are essentially puzzles to unlock the next stage in the game.\n\nWe give you a `Troll_Block` for an example of what an implementation looks like.\n\nYou should implement:\n* The guard block (similar to the troll block)\n* The darkness block (unblocked if any character at the location is carrying\n  a lit item (like a lamp or candle)\n* A locked door block",
            "block_group": "f5056235633c4213bf1cf1b6501bc6bf"
        },
        {
            "cell_type": "code",
            "metadata": {
                "source_hash": "f9942f06",
                "execution_start": 1725834101084,
                "execution_millis": 99,
                "deepnote_to_be_reexecuted": false,
                "cell_id": "55afcfe92e0546b3aa04e76d71894b29",
                "deepnote_cell_type": "code"
            },
            "source": "# Sample Block\n\nclass Troll_Block(blocks.Block):\n    \"\"\"\n    Blocks progress in this direction until the troll is no longer hungry, or\n    leaves, or is unconscious, or dead.\n    \"\"\"\n\n    def __init__(self, location: things.Location, troll: things.Character):\n        super().__init__(\n            \"A troll blocks your way\", \"A hungry troll blocks your way\"\n        )\n        self.location = location\n        self.troll = troll\n\n    def is_blocked(self) -> bool:\n        # Conditions of block:\n        # * There is a troll here\n        # * The troll is alive and conscious\n        # * The troll is still hungry\n        if self.troll:\n            if not self.location.here(self.troll):\n                return False\n            if self.troll.get_property(\"is_dead\"):\n                return False\n            if self.troll.get_property(\"is_unconscious\"):\n                return False\n            if self.troll.get_property(\"is_hungry\"):\n                return True\n        return False\n",
            "block_group": "bfe82d5e6e214d468eafb8fc66dbc1df",
            "execution_count": 13,
            "outputs": [],
            "outputs_reference": null,
            "content_dependencies": null
        },
        {
            "cell_type": "code",
            "metadata": {
                "source_hash": "b60d8705",
                "execution_start": 1725834101144,
                "execution_millis": 39,
                "deepnote_to_be_reexecuted": false,
                "cell_id": "b128a512c7044b389dae318a3277eff8",
                "deepnote_cell_type": "code"
            },
            "source": "class Guard_Block(blocks.Block):\n    \"\"\"\n    Blocks progress in this direction until the guard is no longer suspicious, or\n    leaves, or is unconscious, or dead.\n    \"\"\"\n\n    def __init__(self, location: things.Location, guard: things.Character):\n        super().__init__(\n            \"A guard blocks your way\", \"The guard refuses to let you pass.\"\n        )\n        # TODO - your code here\n        self.location = location\n        self.guard = guard\n\n    def is_blocked(self) -> bool:\n        # Conditions of block:\n        # * There is a guard here\n        # * The guard is alive and conscious\n        # * The guard is suspicious\n\n        # TODO - your code here\n        if self.guard:\n            if not self.location.here(self.guard):\n                return False\n            if self.guard.get_property(\"is_dead\"):\n                return False\n            if self.guard.get_property(\"is_unconscious\"):\n                return False\n            if self.guard.get_property(\"is_suspicious\"):\n                return True\n        return False",
            "block_group": "e6841ac12c6d4a6caedd625beedd69a4",
            "execution_count": 14,
            "outputs": [],
            "outputs_reference": null,
            "content_dependencies": null
        },
        {
            "cell_type": "code",
            "metadata": {
                "source_hash": "2d5d6e0",
                "execution_start": 1725834101145,
                "execution_millis": 39,
                "deepnote_to_be_reexecuted": false,
                "cell_id": "cdf188c0c17e44acab52fb3ded297369",
                "deepnote_cell_type": "code"
            },
            "source": "class Darkness(blocks.Block):\n    \"\"\"\n    Blocks progress in this direction unless the character has something that lights the way.\n    \"\"\"\n\n    def __init__(self, location: things.Location, darkness: things.Character):\n        super().__init__(\"Darkness blocks your way\", \"It's too dark to go that way.\")\n        self.location = location\n        self.darkness = darkness\n\n    def is_blocked(self) -> bool:\n        # Conditions of block:\n        # * The location is dark\n        # * Unblocked if any character at the location is carrying a lit item \n        #   (like a lamp or candle)\n        if self.darkness:   \n            if player.is_in_inventory(candle):\n                if player.inventory[\"candle\"].get_property(\"is_lit\"):\n                    print(player.inventory[\"candle\"].get_property(\"is_lit\"))\n                    return False\n            elif player.is_in_inventory(lamp):\n                if player.inventory[\"lamp\"].get_property(\"is_lit\"):\n                    return False\n            return True\n        return False",
            "block_group": "10a2ad619de14ce59283e954f9f291ad",
            "execution_count": 15,
            "outputs": [],
            "outputs_reference": null,
            "content_dependencies": null
        },
        {
            "cell_type": "code",
            "metadata": {
                "collapsed": false,
                "source_hash": "b7d5d333",
                "execution_start": 1725834101147,
                "execution_millis": 37,
                "deepnote_to_be_reexecuted": false,
                "cell_id": "75155f53109f4fdb918971a9ff041706",
                "deepnote_cell_type": "code"
            },
            "source": "class Door_Block(blocks.Block):\n    \"\"\"\n    Blocks progress in this direction until the character unlocks the door.\n    \"\"\"\n\n    def __init__(self, location: things.Location, door: things.Item):\n        super().__init__(\"A locked door blocks your way\", \"The door ahead is locked.\")\n        # TODO - your code here\n        self.location = location\n        self.door = door\n\n    def is_blocked(self) -> bool:\n        # Conditions of block:\n        # * The door is locked\n        # TODO - your code here\n        if self.door.get_property(\"is_locked\"):\n            return True\n        return False",
            "block_group": "da343e70445f4ca49c921bb9cd85ec0e",
            "execution_count": 16,
            "outputs": [],
            "outputs_reference": null,
            "content_dependencies": null
        },
        {
            "cell_type": "code",
            "metadata": {
                "source_hash": "453de2c5",
                "execution_start": 1725834101191,
                "execution_millis": 57,
                "deepnote_to_be_reexecuted": false,
                "cell_id": "c6ad47bdb2944e41a0d44b5285bc04c4",
                "deepnote_cell_type": "code"
            },
            "source": "# Add blocks to location to:\n# * the courtyard - the guard prevents you from going East\n# * the dungeon_stairs - the darkness prevents you from going Down\n# * the tower stairs - the locked door prevents you from going Up\n\ntroll_block = Troll_Block(drawbridge, troll)\ndrawbridge.add_block(\"east\", troll_block)\n\nguard_block = Guard_Block(courtyard, guard)\ncourtyard.add_block(\"east\", guard_block)\n\ndarkness_block = Darkness(dungeon_stairs, darkness)\ndungeon_stairs.add_block(\"down\", darkness_block)\n\ndoor_block = Door_Block(tower_stairs, door)\ntower_stairs.add_block(\"up\", door_block)\n",
            "block_group": "0175a089e1a64900a431a885e9ffbb12",
            "execution_count": 17,
            "outputs": [],
            "outputs_reference": null,
            "content_dependencies": null
        },
        {
            "cell_type": "markdown",
            "metadata": {
                "cell_id": "e34b48eef27843d7b4cf99f5465b3560",
                "deepnote_cell_type": "markdown"
            },
            "source": "## Play Action Castle",
            "block_group": "02b73206fc5b4b9698671a84dca4f77b"
        },
        {
            "cell_type": "code",
            "metadata": {
                "source_hash": "b84076f0",
                "execution_start": 1725834101191,
                "execution_millis": 57,
                "deepnote_to_be_reexecuted": false,
                "cell_id": "e1182a38ee164e8ea1ab1ce3c5019aaf",
                "deepnote_cell_type": "code"
            },
            "source": "class ActionCastle(games.Game):\n    def __init__(\n        self, start_at: things.Location, player: things.Character, characters=None,\n        custom_actions=None\n    ):\n        super().__init__(start_at, player, characters=characters, custom_actions=custom_actions)\n\n    def is_won(self) -> bool:\n        \"\"\" \n        Checks whether the game has been won. For Action Castle, the game is won\n        once any character is sitting on the throne (has the property is_reigning).\n        \"\"\"\n        for name, character in self.characters.items():\n            if character.get_property(\"is_reigning\"):\n                msg = \"{name} is now reigns in ACTION CASTLE! {name} has won the game!\"\n                self.parser.ok(msg.format(name=character.name.title()))\n                return True\n        return False",
            "block_group": "25260e4918fa4abb90f16feae05bd207",
            "execution_count": 18,
            "outputs": [],
            "outputs_reference": null,
            "content_dependencies": null
        },
        {
            "cell_type": "code",
            "metadata": {
                "source_hash": "92510f5d",
                "execution_start": 1725834101192,
                "execution_millis": 57,
                "deepnote_to_be_reexecuted": false,
                "cell_id": "b015bf26a47f4890b073045c59a69c09",
                "deepnote_cell_type": "code"
            },
            "source": "characters = [troll, guard, princess, ghost]\ncustom_actions = [Unlock_Door, Read_Runes, Propose, Wear_Crown, Sit_On_Throne]\n\n# The Game\ngame = ActionCastle(cottage, player, characters=characters, custom_actions=custom_actions)\n",
            "block_group": "0e9ef4cd765b487ba0741db923c8f742",
            "execution_count": 19,
            "outputs": [],
            "outputs_reference": null,
            "content_dependencies": null
        },
        {
            "cell_type": "code",
            "metadata": {
                "source_hash": "512b5dd1",
                "execution_start": 1725834101209,
                "execution_millis": 248417,
                "deepnote_to_be_reexecuted": false,
                "cell_id": "f3be95a39e314babad65d59e2431406a",
                "deepnote_cell_type": "code"
            },
            "source": "game.game_loop()",
            "block_group": "19ded578ae3740b8a4e6e5a75c726274",
            "execution_count": 20,
            "outputs": [
                {
                    "name": "stdout",
                    "text": "look\nYou are standing in a small cottage.\nExits:\nOut to Garden Path\n\nYou see:\n * a fishing pole\n\n\ntake pole\nThe player got the pole.\ngo out\nYou are standing on a lush garden path. There is a cottage here.\nExits:\nIn to Cottage\nSouth to Fishing Pond\nNorth to Winding Path\n\nYou see:\n * a rosebush\n        pick rose\n\n\ngo south\nYou are at the edge of a small fishing pond.\nExits:\nNorth to Garden Path\n\nYou see:\n * a small fishing pond\n        catch fish\n        catch fish with pole\n\n\ncatch fish with pole\nThe player dips their hook into the pond and catches a fish\ngo north\nYou are standing on a lush garden path. There is a cottage here.\nExits:\nIn to Cottage\nSouth to Fishing Pond\nNorth to Winding Path\n\nYou see:\n * a rosebush\n        pick rose\n\n\npick rose\nThe player picked the lone rose from the rosebush\nsmell rose\nThe player smells the rose. It smells dreamily nostalgic.\nThe player is happy.\ngo north\nYou are walking along a winding path. There is a tall tree here.\nExits:\nSouth to Garden Path\nUp to Top of the Tall Tree\nEast to Drawbridge\n\n\n\n\ngo up\nYou are the top of the tall tree.\nExits:\nDown to Winding Path\nJump to The Afterlife\n\nYou see:\n * a stout, dead branch\n\n\nget branch\nThe player got the branch.\ngo down\nYou are walking along a winding path. There is a tall tree here.\nExits:\nSouth to Garden Path\nUp to Top of the Tall Tree\nEast to Drawbridge\n\n\n\n\ngo east\nYou are standing on one side of a drawbridge leading to ACTION CASTLE.\nExits:\nWest to Winding Path\nEast to Courtyard\n\n\nCharacters:\n * A mean troll\n\ngo east\nA hungry troll blocks your way\ngive the troll the fish\nThe player gave the fish to Troll\nTroll eats the fish. It tastes disgusting! It's raw! And definitely not sashimi-\ngrade!\ngo east\nYou are in the courtyard of ACTION CASTLE.\nExits:\nWest to Drawbridge\nUp to Tower Stairs\nDown to Dungeon Stairs\nEast to Great Feasting Hall\n\n\nCharacters:\n * A castle guard\n\nhit guard with branch\nThe player attacked guard with the branch.\nThe fragile weapon broke into pieces.\nGuard was knocked unconscious.\nGuard dropped the key in the Courtyard.\nGuard dropped the sword in the Courtyard.\nget key\nThe player got the key.\ngo east\nYou stand inside the Great Feasting Hall.\nExits:\nWest to Courtyard\nEast to Throne Room\n\nYou see:\n * a strange candle\n        read runes\n        light candle\n\n\nget candle\nThe player got the candle.\ngo west\nYou are in the courtyard of ACTION CASTLE.\nExits:\nWest to Drawbridge\nUp to Tower Stairs\nDown to Dungeon Stairs\nEast to Great Feasting Hall\n\nYou see:\n * a short sword\nCharacters:\n * A castle guard\n\ngo down\nYou are climbing the stairs down to the dungeon.\nExits:\nUp to Courtyard\nDown to Dungeon\n\n\nCharacters:\n * A thick fog of darkness\n\ngo down\nIt's too dark to go that way.\nlight candle\nThe player lights the candle. It glows.\ngo down\nTrue\nYou are in the dungeon. There is a spooky ghost here.\nExits:\nUp to Dungeon Stairs\n\n\nCharacters:\n * A ghost with bony, claw-like fingers and who is wearing a crown.\n\nread runes\nGhost dropped the crown in the Dungeon.\ntake crown\nThe player got the crown.\ngo up\nYou are climbing the stairs down to the dungeon.\nExits:\nUp to Courtyard\nDown to Dungeon\n\n\nCharacters:\n * A thick fog of darkness\n\ngo up\nYou are in the courtyard of ACTION CASTLE.\nExits:\nWest to Drawbridge\nUp to Tower Stairs\nDown to Dungeon Stairs\nEast to Great Feasting Hall\n\nYou see:\n * a short sword\nCharacters:\n * A castle guard\n\ngo up\nYou are climbing the stairs to the tower. There is a locked door here.\nExits:\nDown to Courtyard\nUp to Tower\n\nYou see:\n * a door\n        unlock door\n\n\ngo up\nThe door ahead is locked.\nunlock door\nThe player unlocked the door\ngo up\nYou are inside a tower.\nExits:\nDown to Tower Stairs\n\n\nCharacters:\n *\n * A princess who is beautiful and lonely. She awaits her non-gender-\nstereotypical soulmate.\n\ngive rose to the princess\nThe player gave the rose to Princess\nPrincess smells the rose. It smells daintily sweet.\nPrincess is happy.\npropose to the princess\nNo action found for propose to the princess\nI'm not sure what you want to do.\npropose marriage to the princess\nThey said \"Yes!\"\nwear crown\nYou are now wearing the crown!\ndown\nYou are climbing the stairs to the tower. There is a locked door here.\nExits:\nDown to Courtyard\nUp to Tower\n\nYou see:\n * a door\n        unlock door\n\n\ndown\nYou are in the courtyard of ACTION CASTLE.\nExits:\nWest to Drawbridge\nUp to Tower Stairs\nDown to Dungeon Stairs\nEast to Great Feasting Hall\n\nYou see:\n * a short sword\nCharacters:\n * A castle guard\n\neast\nYou stand inside the Great Feasting Hall.\nExits:\nWest to Courtyard\nEast to Throne Room\n\n\n\n\neast\nThis is the throne room of ACTION CASTLE.\nExits:\nWest to Great Feasting Hall\n\nYou see:\n * An ornate golden throne.\n        sit on throne\n\n\nsit on throne\nYou are now seated on the throne!\nThe Player is now reigns in ACTION CASTLE! The Player has won the game!\n",
                    "output_type": "stream"
                }
            ],
            "outputs_reference": "s3:deepnote-cell-outputs-production/0b9ea472-bfe8-4408-b43a-7ba74e218d73",
            "content_dependencies": null
        },
        {
            "cell_type": "markdown",
            "source": "<a style='text-decoration:none;line-height:16px;display:flex;color:#5B5B62;padding:10px;justify-content:end;' href='https://deepnote.com?utm_source=created-in-deepnote-cell&projectId=12d8c644-e8eb-4c10-89de-bc2567d69141' target=\"_blank\">\n<img alt='Created in deepnote.com' style='display:inline;max-height:16px;margin:0px;margin-right:7.5px;' src='data:image/svg+xml;base64,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' > </img>\nCreated in <span style='font-weight:600;margin-left:4px;'>Deepnote</span></a>",
            "metadata": {
                "created_in_deepnote_cell": true,
                "deepnote_cell_type": "markdown"
            }
        }
    ],
    "nbformat": 4,
    "nbformat_minor": 0,
    "metadata": {
        "deepnote_full_width": false,
        "deepnote_notebook_id": "a834ea26f0a44090a6a6d9275954feb9",
        "deepnote_execution_queue": []
    }
}